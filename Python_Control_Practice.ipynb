{
  "nbformat": 4,
  "nbformat_minor": 0,
  "metadata": {
    "colab": {
      "name": "Python-Control-Practice.ipynb",
      "provenance": [],
      "collapsed_sections": [],
      "include_colab_link": true
    },
    "kernelspec": {
      "name": "python3",
      "display_name": "Python 3"
    },
    "language_info": {
      "name": "python"
    }
  },
  "cells": [
    {
      "cell_type": "markdown",
      "metadata": {
        "id": "view-in-github",
        "colab_type": "text"
      },
      "source": [
        "<a href=\"https://colab.research.google.com/github/Rakshitha107/Python-practice/blob/main/Python_Control_Practice.ipynb\" target=\"_parent\"><img src=\"https://colab.research.google.com/assets/colab-badge.svg\" alt=\"Open In Colab\"/></a>"
      ]
    },
    {
      "cell_type": "markdown",
      "metadata": {
        "id": "kT42ekZXCgVj"
      },
      "source": [
        "### Python if Statement Syntax"
      ]
    },
    {
      "cell_type": "code",
      "metadata": {
        "id": "XU5OenBXCpla",
        "colab": {
          "base_uri": "https://localhost:8080/"
        },
        "outputId": "c3bd6fb7-abea-48f1-852c-abec61fe62c2"
      },
      "source": [
        "# If the number is positive, we print an appropriate message\n",
        "\n",
        "# Python if... Statement - 1 option\n",
        "num = 30\n",
        "if num > 0:\n",
        "    print(num, \"is a positive number.\")\n",
        "print(\"printed number status.\")\n",
        "\n",
        "# Python if...else Statement  - 2 option\n",
        "if num >= 0:\n",
        "    print(\"Positive or Zero\")\n",
        "else:\n",
        "    print(\"Negative number\")\n",
        "\n",
        "# Python if...elif...else Statement - 3 Option\n",
        "if num > 0:\n",
        "    print(\"Positive number\")\n",
        "elif num == 0:\n",
        "    print(\"Zero\")\n",
        "else:\n",
        "    print(\"Negative number\")"
      ],
      "execution_count": 1,
      "outputs": [
        {
          "output_type": "stream",
          "text": [
            "30 is a positive number.\n",
            "printed number status.\n",
            "Positive or Zero\n",
            "Positive number\n"
          ],
          "name": "stdout"
        }
      ]
    },
    {
      "cell_type": "markdown",
      "metadata": {
        "id": "NbR8TUc7CtlS"
      },
      "source": [
        "### * Python Nested if statements\n",
        "\n",
        "If if...elif...else statement is used inside another if...elif...else statement, then it is called nesting in computer programming."
      ]
    },
    {
      "cell_type": "code",
      "metadata": {
        "id": "Db9MJdWECzbM",
        "colab": {
          "base_uri": "https://localhost:8080/"
        },
        "outputId": "8c7330a6-8431-4b3f-9f52-3fd8d1bb2be5"
      },
      "source": [
        "num = float(input(\"Enter a number: \"))\n",
        "\n",
        "if num >= 0:\n",
        "    if num == 0:\n",
        "        print(\"Zero\")\n",
        "    else:\n",
        "        print(\"Positive number\")\n",
        "else:\n",
        "    print(\"Negative number\")"
      ],
      "execution_count": 2,
      "outputs": [
        {
          "output_type": "stream",
          "text": [
            "Enter a number: 5\n",
            "Positive number\n"
          ],
          "name": "stdout"
        }
      ]
    },
    {
      "cell_type": "markdown",
      "metadata": {
        "id": "xfz65qHKC5Yd"
      },
      "source": [
        "## Python for Loop:"
      ]
    },
    {
      "cell_type": "code",
      "metadata": {
        "id": "9jHH2_ZMDADA",
        "colab": {
          "base_uri": "https://localhost:8080/"
        },
        "outputId": "fc2bc264-eeec-417b-e007-1661c745ef14"
      },
      "source": [
        "# Program to find the sum of all numbers stored in a list\n",
        "\n",
        "# List of numbers\n",
        "numbers = [60, 25, 33, 85, 40, 22, 55, 43, 51]\n",
        "\n",
        "# variable to store the sum\n",
        "sum = 0\n",
        "\n",
        "# iterate over the list\n",
        "for val in numbers:\n",
        "    sum = sum+val\n",
        "\n",
        "print(\"The sum is\", sum)"
      ],
      "execution_count": 3,
      "outputs": [
        {
          "output_type": "stream",
          "text": [
            "The sum is 414\n"
          ],
          "name": "stdout"
        }
      ]
    },
    {
      "cell_type": "markdown",
      "metadata": {
        "id": "-RIkKIP8DIFp"
      },
      "source": [
        "## The range() function\n",
        "* We can generate a sequence of numbers using range() function. range(10) will generate numbers from 0 to 9 (10 numbers).\n",
        "* We can also define the start, stop and step size as range(start, stop,step_size). step_size defaults to 1 if not provided.\n",
        "* This function does not store all the values in memory; it would be inefficient. So it remembers the start, stop, step size and generates the next number on the go.\n",
        "* To force this function to output all the items, we can use the function list()."
      ]
    },
    {
      "cell_type": "code",
      "metadata": {
        "id": "fDuWxeaeDQhX",
        "colab": {
          "base_uri": "https://localhost:8080/"
        },
        "outputId": "d162829d-f844-4185-f64b-e2982228110c"
      },
      "source": [
        "print(range(10))\n",
        "print(list(range(15)))\n",
        "print(list(range(2, 10)))\n",
        "print(list(range(2, 30, 3)))"
      ],
      "execution_count": 4,
      "outputs": [
        {
          "output_type": "stream",
          "text": [
            "range(0, 10)\n",
            "[0, 1, 2, 3, 4, 5, 6, 7, 8, 9, 10, 11, 12, 13, 14]\n",
            "[2, 3, 4, 5, 6, 7, 8, 9]\n",
            "[2, 5, 8, 11, 14, 17, 20, 23, 26, 29]\n"
          ],
          "name": "stdout"
        }
      ]
    },
    {
      "cell_type": "code",
      "metadata": {
        "id": "AfstgzBWDVaw",
        "colab": {
          "base_uri": "https://localhost:8080/"
        },
        "outputId": "8007e5ff-0dc7-462a-cd17-6786734784d5"
      },
      "source": [
        "# Program to iterate through a list using indexing\n",
        "\n",
        "music = ['pop', 'rock', 'jazz','classic']\n",
        "\n",
        "# iterate over the list using index\n",
        "\n",
        "for i in range(len(music)):\n",
        "    print(\"I like\", music[i])\n",
        "\n",
        "#combined with the len() function to iterate through a sequence using indexing. "
      ],
      "execution_count": 5,
      "outputs": [
        {
          "output_type": "stream",
          "text": [
            "I like pop\n",
            "I like rock\n",
            "I like jazz\n",
            "I like classic\n"
          ],
          "name": "stdout"
        }
      ]
    },
    {
      "cell_type": "markdown",
      "metadata": {
        "id": "hsK_PSdnDY1C"
      },
      "source": [
        "## for loop with else"
      ]
    },
    {
      "cell_type": "code",
      "metadata": {
        "id": "JKI1oudBDePH",
        "colab": {
          "base_uri": "https://localhost:8080/"
        },
        "outputId": "4875258f-ff0c-45b8-8d05-34a6f67f10d9"
      },
      "source": [
        "# program to display student's marks from record\n",
        "student_name = 'Soyuj'\n",
        "\n",
        "marks = {'James': 90, 'Jules': 55, 'Arthur': 77}\n",
        "\n",
        "for student in marks:\n",
        "    if student == student_name:\n",
        "        print(marks[student])\n",
        "        break\n",
        "else:\n",
        "    print('No entry with that name found.')\n",
        "\n",
        "\n",
        "# Use of break statement inside the loop\n",
        "\n",
        "for val in \"string\":\n",
        "    if val == \"i\":\n",
        "        break\n",
        "    print(val)\n",
        "\n",
        "print(\"The end\")\n",
        "\n",
        "\n",
        "# Program to show the use of continue statement inside loops\n",
        "\n",
        "for val in \"string\":\n",
        "    if val == \"i\":\n",
        "        continue\n",
        "    print(val)\n",
        "\n",
        "print(\"The end\")"
      ],
      "execution_count": 6,
      "outputs": [
        {
          "output_type": "stream",
          "text": [
            "No entry with that name found.\n",
            "s\n",
            "t\n",
            "r\n",
            "The end\n",
            "s\n",
            "t\n",
            "r\n",
            "n\n",
            "g\n",
            "The end\n"
          ],
          "name": "stdout"
        }
      ]
    },
    {
      "cell_type": "markdown",
      "metadata": {
        "id": "omMqFa4LDho1"
      },
      "source": [
        "## while loop in Python\n",
        "* The while loop in Python is used to iterate over a block of code as long as the test expression (condition) is true."
      ]
    },
    {
      "cell_type": "code",
      "metadata": {
        "id": "A2qPDnt2DrZo",
        "colab": {
          "base_uri": "https://localhost:8080/"
        },
        "outputId": "5a69c82f-166b-43ae-a9d7-30b1fe4ad47f"
      },
      "source": [
        "# To take input from the user,\n",
        "# n = int(input(\"Enter n: \"))\n",
        "\n",
        "n = 10\n",
        "\n",
        "# initialize sum and counter\n",
        "sum = 0\n",
        "i = 1\n",
        "\n",
        "while i <= n:\n",
        "    sum = sum + i\n",
        "    i = i+1    # update counter\n",
        "\n",
        "# print the sum\n",
        "print(\"The sum is\", sum)\n",
        "\n",
        "\n",
        "# While loop with else\n",
        "\n",
        "'''Example to illustrate\n",
        "the use of else statement\n",
        "with the while loop'''\n",
        "\n",
        "counter = 0\n",
        "\n",
        "while counter < 3:\n",
        "    print(\"Inside loop\")\n",
        "    counter = counter + 1\n",
        "else:\n",
        "    print(\"Inside else\")"
      ],
      "execution_count": 7,
      "outputs": [
        {
          "output_type": "stream",
          "text": [
            "The sum is 55\n",
            "Inside loop\n",
            "Inside loop\n",
            "Inside loop\n",
            "Inside else\n"
          ],
          "name": "stdout"
        }
      ]
    }
  ]
}